{
 "cells": [
  {
   "cell_type": "code",
   "execution_count": 16,
   "metadata": {},
   "outputs": [],
   "source": [
    "from langchain import PromptTemplate\n",
    "from langchain.chains import RetrievalQA\n",
    "from langchain_community.embeddings import HuggingFaceEmbeddings\n",
    "from langchain_community.vectorstores import FAISS\n",
    "from langchain.vectorstores import faiss as langchain_faiss\n",
    "import faiss\n",
    "from langchain.document_loaders import PyPDFLoader, DirectoryLoader\n",
    "from langchain.text_splitter import RecursiveCharacterTextSplitter\n",
    "from langchain.prompts import PromptTemplate\n",
    "from langchain_community.llms import CTransformers"
   ]
  },
  {
   "cell_type": "code",
   "execution_count": 2,
   "metadata": {},
   "outputs": [],
   "source": [
    "def pdf_load(data_dir):\n",
    "    loader = DirectoryLoader(data_dir, glob=\"*.pdf\", loader_cls=PyPDFLoader)\n",
    "    \n",
    "    doc = loader.load()\n",
    "    return doc\n",
    "extdata = pdf_load(\"data_dir\")"
   ]
  },
  {
   "cell_type": "code",
   "execution_count": 3,
   "metadata": {},
   "outputs": [
    {
     "name": "stdout",
     "output_type": "stream",
     "text": [
      "length of chunks: 75\n"
     ]
    }
   ],
   "source": [
    "def split(extdata):\n",
    "    text_split = RecursiveCharacterTextSplitter(chunk_size=800, chunk_overlap = 80)\n",
    "    tokens = text_split.split_documents(extdata)\n",
    "    return tokens\n",
    "tokens = split(extdata)\n",
    "print(\"length of chunks:\",len(tokens))"
   ]
  },
  {
   "cell_type": "code",
   "execution_count": 4,
   "metadata": {},
   "outputs": [
    {
     "name": "stderr",
     "output_type": "stream",
     "text": [
      "c:\\Users\\LENOVO\\OneDrive\\Desktop\\gitpost\\medical_chatbot\\.venv\\Lib\\site-packages\\tqdm\\auto.py:21: TqdmWarning: IProgress not found. Please update jupyter and ipywidgets. See https://ipywidgets.readthedocs.io/en/stable/user_install.html\n",
      "  from .autonotebook import tqdm as notebook_tqdm\n"
     ]
    }
   ],
   "source": [
    "def hf_embeddings():\n",
    "    embeddings = HuggingFaceEmbeddings(model_name=\"sentence-transformers/all-MiniLM-L6-v2\",model_kwargs={'device': 'cpu'})\n",
    "    return embeddings\n",
    "embeddings = hf_embeddings()"
   ]
  },
  {
   "cell_type": "code",
   "execution_count": 5,
   "metadata": {},
   "outputs": [
    {
     "data": {
      "text/plain": [
       "HuggingFaceEmbeddings(client=SentenceTransformer(\n",
       "  (0): Transformer({'max_seq_length': 256, 'do_lower_case': False}) with Transformer model: BertModel \n",
       "  (1): Pooling({'word_embedding_dimension': 384, 'pooling_mode_cls_token': False, 'pooling_mode_mean_tokens': True, 'pooling_mode_max_tokens': False, 'pooling_mode_mean_sqrt_len_tokens': False})\n",
       "  (2): Normalize()\n",
       "), model_name='sentence-transformers/all-MiniLM-L6-v2', cache_folder=None, model_kwargs={'device': 'cpu'}, encode_kwargs={}, multi_process=False, show_progress=False)"
      ]
     },
     "execution_count": 5,
     "metadata": {},
     "output_type": "execute_result"
    }
   ],
   "source": [
    "embeddings"
   ]
  },
  {
   "cell_type": "code",
   "execution_count": 6,
   "metadata": {},
   "outputs": [
    {
     "name": "stdout",
     "output_type": "stream",
     "text": [
      "Embedding of 'pushkar sharma' is: [-0.006053785793483257, -0.022976543754339218, -0.07094717770814896, -0.018650084733963013, -0.027309833094477654, 0.0848015546798706, 0.09731242060661316, 0.037898700684309006, 0.05176715552806854, 0.037358447909355164, 0.01607447676360607, -0.15937912464141846, -0.0050665452145040035, 0.03932378068566322, 0.07719752192497253, 0.04647071287035942, -0.0017382897203788161, 0.004604054614901543, 0.041276853531599045, -0.0689355880022049, -0.06302502006292343, 0.04452357441186905, -0.03566081449389458, -0.04886932671070099, 0.006537001579999924, -0.026425981894135475, 0.020379597321152687, -0.001554164569824934, -0.05121106281876564, -0.0588819645345211, 0.08923058211803436, -0.05794423073530197, 0.022681085392832756, 0.05013495311141014, -0.05096560716629028, 0.032543666660785675, -0.07006102800369263, 0.10825872421264648, 0.04622697830200195, -0.05700882896780968, -0.013814974576234818, -0.10016147047281265, 0.03578101843595505, -0.014829195104539394, 0.057707514613866806, -0.06611154228448868, -0.0007660956471227109, -0.0007848662789911032, 0.02151172049343586, -0.04974250867962837, -0.0739913135766983, -0.0737076923251152, -0.002061357954517007, -0.02084110677242279, 0.13288067281246185, -0.0406554713845253, 0.01062780525535345, 0.04130074009299278, 0.06432154774665833, 0.04502534121274948, -0.0031155357137322426, 0.012681903317570686, 0.007034301292151213, -0.008444899693131447, 0.044238947331905365, -0.07677622884511948, -0.001704250811599195, -0.001419934444129467, 0.017133040353655815, -0.005933059845119715, -0.0031750937923789024, 0.0359964445233345, -0.02421007677912712, -0.13913294672966003, 0.00241370452567935, -0.0632161796092987, -0.060294926166534424, 0.03494558110833168, 0.0005542542785406113, -0.01058023702353239, -0.0080342972651124, -0.10980916768312454, -0.044120293110609055, 0.03558307886123657, -0.04933873936533928, -0.021589001640677452, 0.047460779547691345, -0.04981701448559761, -0.055035512894392014, -0.052876442670822144, 0.04409066587686539, 0.03488815203309059, 0.045306578278541565, 0.03512599319219589, -0.05757065489888191, -0.0188436321914196, -0.02241590805351734, -0.08998272567987442, -0.12784148752689362, 0.18639548122882843, -0.07128335535526276, 0.03170930594205856, -0.0376896858215332, -0.00811331532895565, -0.046733394265174866, -0.06663491576910019, -0.031304650008678436, -0.019869446754455566, -0.02107161656022072, 0.014600344933569431, 0.05304985120892525, 0.031368643045425415, -0.07598301023244858, 0.06144057586789131, 0.07113660871982574, -0.08260627835988998, -0.027647659182548523, 0.03081638552248478, 0.018591005355119705, -0.011889446526765823, -0.012058849446475506, 0.030600477010011673, -0.046996504068374634, -0.005803217180073261, -0.07521684467792511, -0.04561907798051834, -0.024642055854201317, -4.567116518003659e-34, 0.001695541082881391, -0.0286420825868845, 0.054828446358442307, 0.005579585209488869, -0.011333582922816277, -0.08563157916069031, 0.026606041938066483, -0.024351634085178375, -0.029378945007920265, -0.05811576545238495, 0.0424795038998127, 0.005475593730807304, 0.01726771518588066, 0.01158235315233469, -0.0006604844238609076, 0.046312786638736725, 0.011833971366286278, 0.0325397364795208, -0.023563815280795097, -0.007277455646544695, -0.008404967375099659, 0.05141470581293106, 0.03810373321175575, -0.03232912719249725, 0.038411568850278854, -0.047290507704019547, 0.07370159775018692, -0.09352656453847885, 0.03929244354367256, 0.03372607380151749, 0.005607955623418093, 0.04110308736562729, -0.040967173874378204, 0.05216911435127258, 0.0002247809898108244, -0.06343697011470795, -0.028308408334851265, -0.08319835364818573, -0.024408621713519096, -0.07098855823278427, 0.015279960818588734, -0.007024948950856924, 0.002449619583785534, -0.043787453323602676, -0.05877504497766495, 0.0954943522810936, 0.04045317694544792, 0.03222310170531273, 0.04833559691905975, 0.0442516952753067, -0.019205491989850998, -0.02948387712240219, 0.026707898825407028, 0.01776963844895363, -6.652023876085877e-05, -0.00535992719233036, 0.04791661351919174, 0.0060430108569562435, 0.024325286969542503, 0.061717454344034195, -0.03924957290291786, -0.010357039980590343, -0.06581906974315643, 0.014972019009292126, -0.06794274598360062, -0.02257664129137993, 0.014209835790097713, -0.09807106107473373, 0.01648133248090744, -0.013060841709375381, -0.029821502044796944, 0.04377947747707367, 0.015691516920924187, -0.04779447242617607, -0.06360660493373871, -0.04473936930298805, -0.010934936814010143, 0.07103611528873444, -0.06767124682664871, -0.010813320055603981, -0.04009595885872841, 0.024136051535606384, 0.040490757673978806, -0.08642063289880753, 0.012236308306455612, 0.061257004737854004, -0.053902626037597656, 0.028403621166944504, -0.023807227611541748, 0.08958164602518082, -0.0247286856174469, 0.04144154116511345, 0.031441960483789444, 0.03086240030825138, -0.010595066472887993, 1.3614944061152068e-34, -0.020848549902439117, 0.026028737425804138, -0.01645781472325325, 0.0510164313018322, 0.09835878014564514, -0.0006666572880931199, 0.03511979058384895, 0.04058455303311348, 0.039803165942430496, -0.036240413784980774, 0.03144700452685356, 0.0009403642034158111, 0.06842536479234695, 0.031038174405694008, 0.026376185938715935, 0.007207189220935106, 0.010533780790865421, 0.0014704357599839568, -0.07995855063199997, -0.02633904479444027, 0.02817636728286743, -0.0058668386191129684, -0.040228769183158875, -0.02127804048359394, -0.030447665601968765, 0.02542232908308506, 0.06291011720895767, 0.08768810331821442, -0.08096542209386826, -0.060803670436143875, -0.014991519972682, -0.051135990768671036, -0.10118822008371353, 0.03081541508436203, -0.09358494728803635, 0.06567355245351791, -0.06838582456111908, 0.10274012386798859, 0.03437548875808716, 0.13576266169548035, -0.01623372547328472, 0.06530246883630753, -0.01188555359840393, 0.046915750950574875, 0.01483449898660183, -0.04668397083878517, 0.016691790893673897, 0.06278985738754272, -0.006479294039309025, -0.07447889447212219, -0.03546132147312164, 0.04993509128689766, 0.0347110778093338, -0.03556295484304428, 0.006435257848352194, 0.10241752862930298, -0.0028070041444152594, 0.030210690572857857, 0.036737509071826935, -0.04510911926627159, -0.04188590124249458, -0.04445486143231392, 0.11163517832756042, 0.038067527115345, -0.017709288746118546, 0.03394284471869469, 0.035727761685848236, -0.08653772622346878, -0.0025350539945065975, -0.05488614737987518, 0.01962052844464779, -0.037091467529535294, -0.019143488258123398, 0.048563793301582336, -0.006729754153639078, 0.0689178928732872, -0.11726942658424377, 0.06318263709545135, 0.01455264538526535, 0.03415214642882347, 0.030650669708848, 0.028825875371694565, -0.029067378491163254, 0.06833714991807938, 0.09099254757165909, 0.028661513701081276, 0.0994403287768364, -0.10176306962966919, 0.06593791395425797, -0.006283058784902096, 0.06132020056247711, 0.045497823506593704, 0.0585075207054615, -0.06630966812372208, 0.025302283465862274, -1.3461201930908828e-08, -0.045896343886852264, -0.040609270334243774, -0.04323635995388031, -0.04830557852983475, 0.07621368020772934, 0.0673050805926323, 0.030006013810634613, -0.04626281559467316, 0.029346048831939697, 0.011709516867995262, 0.007012919522821903, -0.03692052140831947, 0.05289784073829651, 0.10150645673274994, 0.020644815638661385, 0.0026977539528161287, -0.02578514628112316, -0.005243655294179916, -0.03340885043144226, 0.03238673880696297, 0.008256793953478336, -0.04795871675014496, 0.10170847922563553, 0.01216602511703968, 0.022528525441884995, 0.048153337091207504, 0.0034731945488601923, 0.06380817294120789, 0.010135358199477196, 0.06914070248603821, -0.005763682071119547, 0.07099400460720062, 0.0025748214684426785, -0.05184486135840416, -0.03352264314889908, 0.06994617730379105, 0.08785542100667953, 0.0026850723661482334, -0.06642493605613708, 0.1207261011004448, -0.0301081333309412, -0.013052038848400116, 0.0295973252505064, -0.02176043763756752, -0.043612755835056305, -0.021729540079832077, -0.06717269122600555, -0.007318178657442331, -0.024426646530628204, -0.05262039974331856, 0.010038044303655624, 0.015542667359113693, 0.023782525211572647, 0.05816887691617012, -0.009899044409394264, 0.02635364979505539, -0.1300293356180191, 0.01091909408569336, -0.04839302599430084, 0.07300108671188354, 0.11745962500572205, -0.041836123913526535, 0.00210219481959939, 0.022013923153281212]\n",
      "Length of the embedded word is: 384\n"
     ]
    }
   ],
   "source": [
    "ans_embed = embeddings.embed_query(\"pushkar sharma\")\n",
    "print(f\"Embedding of 'pushkar sharma' is: {ans_embed}\")\n",
    "print(f\"Length of the embedded word is: {len(ans_embed)}\")\n"
   ]
  },
  {
   "cell_type": "code",
   "execution_count": 7,
   "metadata": {},
   "outputs": [],
   "source": [
    "DB_FAISS_PATH = 'vectorstore/db_faiss'"
   ]
  },
  {
   "cell_type": "code",
   "execution_count": 8,
   "metadata": {},
   "outputs": [],
   "source": [
    "db = FAISS.from_documents(tokens, embeddings)\n",
    "db.save_local(DB_FAISS_PATH)"
   ]
  },
  {
   "cell_type": "code",
   "execution_count": 9,
   "metadata": {},
   "outputs": [],
   "source": [
    "prompt_template=\"\"\"\n",
    "Use the following pieces of information to answer the user's question.\n",
    "If you don't know the answer, just say that you don't know, don't try to make up an answer.\n",
    "\n",
    "Context: {context}\n",
    "Question: {question}\n",
    "\n",
    "Only return the helpful answer below and nothing else.\n",
    "Helpful answer:\n",
    "\"\"\""
   ]
  },
  {
   "cell_type": "code",
   "execution_count": 10,
   "metadata": {},
   "outputs": [],
   "source": [
    "PROMPT=PromptTemplate(template=prompt_template, input_variables=[\"context\", \"question\"])\n",
    "chain_type_kwargs={\"prompt\": PROMPT}"
   ]
  },
  {
   "cell_type": "code",
   "execution_count": 11,
   "metadata": {},
   "outputs": [],
   "source": [
    "llm=CTransformers(model=\"llm/llama-2-7b-chat.ggmlv3.q4_0.bin\",model_type=\"llama\",config={'max_new_tokens':512,'temperature':0.8})"
   ]
  },
  {
   "cell_type": "code",
   "execution_count": 12,
   "metadata": {},
   "outputs": [],
   "source": [
    "from langchain.chains import RetrievalQA"
   ]
  },
  {
   "cell_type": "code",
   "execution_count": 13,
   "metadata": {},
   "outputs": [],
   "source": [
    "qa=RetrievalQA.from_chain_type(\n",
    "    llm=llm, \n",
    "    chain_type=\"stuff\", \n",
    "    retriever=db.as_retriever(search_kwargs={'k': 2}),\n",
    "    return_source_documents=True, \n",
    "    chain_type_kwargs=chain_type_kwargs)"
   ]
  },
  {
   "cell_type": "code",
   "execution_count": 14,
   "metadata": {},
   "outputs": [
    {
     "name": "stderr",
     "output_type": "stream",
     "text": [
      "\n",
      "KeyboardInterrupt\n",
      "\n"
     ]
    }
   ],
   "source": [
    "while True:\n",
    "    user_input=input(f\"Input Prompt:\")\n",
    "    result=qa({\"query\": user_input})\n",
    "    print(\"Response : \", result[\"result\"])"
   ]
  },
  {
   "cell_type": "code",
   "execution_count": 26,
   "metadata": {},
   "outputs": [
    {
     "name": "stdout",
     "output_type": "stream",
     "text": [
      "combine_documents_chain=StuffDocumentsChain(llm_chain=LLMChain(prompt=PromptTemplate(input_variables=['context', 'question'], template=\"\\nProvide a response based on the given information. \\nIf you don't know the answer, simply state that you're unsure; do not attempt to fabricate an answer.\\n\\nContext: {context}\\nQuestion: {question}\\n\\nUse the context and question provided below.\\nHelpful answer:\\n\"), llm=CTransformers(client=<ctransformers.llm.LLM object at 0x000002AADFC3F8D0>, model='llm/llama-2-7b-chat.ggmlv3.q4_0.bin', model_type='llama', config={'max_new_tokens': 512, 'temperature': 0.8})), document_variable_name='context') return_source_documents=True retriever=VectorStoreRetriever(tags=['FAISS', 'HuggingFaceEmbeddings'], vectorstore=<langchain_community.vectorstores.faiss.FAISS object at 0x000002AAC9AF1790>, search_kwargs={'k': 2})\n"
     ]
    }
   ],
   "source": [
    "query_text = \"What is the focus of the present patent application?\"\n",
    "response = qa(query_text)\n",
    "print(response)"
   ]
  },
  {
   "cell_type": "code",
   "execution_count": null,
   "metadata": {},
   "outputs": [],
   "source": []
  }
 ],
 "metadata": {
  "kernelspec": {
   "display_name": "Python 3",
   "language": "python",
   "name": "python3"
  },
  "language_info": {
   "codemirror_mode": {
    "name": "ipython",
    "version": 3
   },
   "file_extension": ".py",
   "mimetype": "text/x-python",
   "name": "python",
   "nbconvert_exporter": "python",
   "pygments_lexer": "ipython3",
   "version": "3.11.6"
  }
 },
 "nbformat": 4,
 "nbformat_minor": 2
}
